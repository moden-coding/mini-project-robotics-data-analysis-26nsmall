{
 "cells": [
  {
   "cell_type": "code",
   "execution_count": 1,
   "metadata": {
    "id": "6B5UsY3QFZSP"
   },
   "outputs": [],
   "source": [
    "# teams.csv-like rows you parsed already:\n",
    "raw_teams = [\n",
    "    [\"HHS-1729\", \"Hudson HS\", \"Ada\", \"ada@hudsonhs.org\", \"Lin\", \"lin@hudsonhs.org\"],\n",
    "    [\"FRM-101\",  \"Framingham HS\", \"Sam\", \"sam@frhs.org\", \"Tess\", \"tess@frhs.org\"],\n",
    "    [\"MRB-88\",   \"Marlborough HS\", \"Kai\", \"kai@mrbhs.org\", \"Ada\", \"ada@hudsonhs.org\"], \n",
    "    [\"WBY-77\",   \"Westborough HS\", \"Ira\", \"ira@wby.org\", \"Mo\", \"mo@wby.org\"],\n",
    "]\n",
    "\n",
    "# provisional match schedule (field, start_time, teamA, teamB)\n",
    "# Times are ISO strings in the format YYYY-MM-DDTHH:MM\n",
    "raw_matches = [\n",
    "    ('Field-2', '2025-09-27T12:30', 'FRM-101', 'WBY-77'),\n",
    "    ('Field-1', '2025-09-27T16:15', 'FRM-101', 'HHS-1729'),\n",
    "    ('Field-2', '2025-09-27T11:45', 'WBY-77', 'FRM-101'),\n",
    "    ('Field-1', '2025-09-27T11:00', 'HHS-1729', 'MRB-88'),\n",
    "    ('Field-2', '2025-09-27T17:00', 'FRM-101', 'MRB-88'),\n",
    "    ('Field-1', '2025-09-27T15:30', 'WBY-77', 'HHS-1729'),\n",
    "    ('Field-1', '2025-09-27T17:45', 'MRB-88', 'WBY-77'),\n",
    "    ('Field-2', '2025-09-27T17:45', 'HHS-1729', 'FRM-101'),\n",
    "    ('Field-2', '2025-09-27T18:30', 'MRB-88', 'HHS-1729'),\n",
    "    ('Field-1', '2025-09-27T13:15', 'HHS-1729', 'WBY-77'),\n",
    "    ('Field-2', '2025-09-27T10:15', 'MRB-88', 'WBY-77'),\n",
    "    ('Field-2', '2025-09-27T15:30', 'MRB-88', 'FRM-101'),\n",
    "    ('Field-2', '2025-09-27T14:00', 'WBY-77', 'MRB-88'),\n",
    "    ('Field-1', '2025-09-27T17:00', 'HHS-1729', 'WBY-77'),\n",
    "    ('Field-1', '2025-09-27T14:45', 'HHS-1729', 'MRB-88'),\n",
    "    ('Field-2', '2025-09-27T16:15', 'WBY-77', 'MRB-88'),\n",
    "    ('Field-1', '2025-09-27T09:30', 'WBY-77', 'HHS-1729'),\n",
    "    ('Field-1', '2025-09-27T12:30', 'MRB-88', 'HHS-1729'),\n",
    "    ('Field-2', '2025-09-27T14:45', 'FRM-101', 'WBY-77'),\n",
    "    ('Field-2', '2025-09-27T13:15', 'MRB-88', 'FRM-101'),\n",
    "    ('Field-2', '2025-09-27T09:30', 'MRB-88', 'FRM-101'),\n",
    "    ('Field-1', '2025-09-27T19:15', 'HHS-1729', 'FRM-101'),\n",
    "    ('Field-1', '2025-09-27T14:00', 'FRM-101', 'HHS-1729'),\n",
    "    ('Field-1', '2025-09-27T10:15', 'HHS-1729', 'FRM-101'),\n",
    "    ('Field-1', '2025-09-27T18:30', 'WBY-77', 'FRM-101'),\n",
    "]\n",
    "\n",
    "# reported scores (field, time, team_id, points)\n",
    "raw_scores = [\n",
    "    (\"Field-1\", \"2025-09-27T09:30\", \"WBY-77\", 22, \"HHS-1729\", 18),\n",
    "    (\"Field-2\", \"2025-09-27T09:30\", \"MRB-88\", 25, \"FRM-101\", 25),\n",
    "    (\"Field-1\", \"2025-09-27T10:15\", \"HHS-1729\", 17, \"FRM-101\", 31),\n",
    "    (\"Field-2\", \"2025-09-27T10:15\", \"MRB-88\", 27, \"WBY-77\", 23),\n",
    "    (\"Field-1\", \"2025-09-27T11:00\", \"HHS-1729\", 22, \"MRB-88\", 19),\n",
    "\n",
    "    (\"Field-2\", \"2025-09-27T11:45\", \"WBY-77\", 26, \"FRM-101\", 24),\n",
    "    (\"Field-1\", \"2025-09-27T12:30\", \"MRB-88\", 28, \"HHS-1729\", 30),\n",
    "    (\"Field-2\", \"2025-09-27T12:30\", \"FRM-101\", 24, \"WBY-77\", 22),\n",
    "    (\"Field-1\", \"2025-09-27T13:15\", \"HHS-1729\", 19, \"WBY-77\", 23),\n",
    "    (\"Field-2\", \"2025-09-27T13:15\", \"MRB-88\", 32, \"FRM-101\", 29),\n",
    "\n",
    "    (\"Field-1\", \"2025-09-27T14:00\", \"FRM-101\", 27, \"HHS-1729\", 25),\n",
    "    (\"Field-2\", \"2025-09-27T14:00\", \"WBY-77\", 20, \"MRB-88\", 22),\n",
    "    (\"Field-1\", \"2025-09-27T14:45\", \"HHS-1729\", 24, \"MRB-88\", 26),\n",
    "    (\"Field-2\", \"2025-09-27T14:45\", \"FRM-101\", 18, \"WBY-77\", 17),\n",
    "    (\"Field-1\", \"2025-09-27T15:30\", \"WBY-77\", 28, \"HHS-1729\", 31),\n",
    "\n",
    "    (\"Field-2\", \"2025-09-27T15:30\", \"MRB-88\", 24, \"FRM-101\", 26),\n",
    "    (\"Field-1\", \"2025-09-27T16:15\", \"FRM-101\", 33, \"HHS-1729\", 20),\n",
    "    (\"Field-2\", \"2025-09-27T16:15\", \"WBY-77\", 23, \"MRB-88\", 27),\n",
    "    (\"Field-1\", \"2025-09-27T17:00\", \"HHS-1729\", 29, \"WBY-77\", 27),\n",
    "    (\"Field-2\", \"2025-09-27T17:00\", \"FRM-101\", 22, \"MRB-88\", 24),\n",
    "\n",
    "    (\"Field-1\", \"2025-09-27T17:45\", \"MRB-88\", 21, \"WBY-77\", 19),\n",
    "    (\"Field-2\", \"2025-09-27T17:45\", \"HHS-1729\", 20, \"FRM-101\", 18),\n",
    "    (\"Field-1\", \"2025-09-27T18:30\", \"WBY-77\", 28, \"FRM-101\", 26),\n",
    "    (\"Field-2\", \"2025-09-27T18:30\", \"MRB-88\", 25, \"HHS-1729\", 21),\n",
    "    (\"Field-1\", \"2025-09-27T19:15\", \"HHS-1729\", 26, \"FRM-101\", 24),\n",
    "]\n",
    "\n",
    "# workshop signups: participant_email, workshop_code\n",
    "raw_workshops = [\n",
    "    (\"ada@hudsonhs.org\", \"VIS\"), \n",
    "    (\"lin@hudsonhs.org\", \"PID\"),\n",
    "    (\"sam@frhs.org\", \"PID\"), \n",
    "    (\"tess@frhs.org\", \"PID\"),\n",
    "    (\"kai@mrbhs.org\", \"PID\"), \n",
    "    (\"ira@wby.org\", \"VIS\"), \n",
    "    (\"mo@wby.org\", \"VIS\"),\n",
    "    (\"ada@hudsonhs.org\", \"PID\"),  \n",
    "]\n",
    "\n",
    "# workshop capacities (could also be given as flat CSV rows later)\n",
    "workshop_caps = [\n",
    "    (\"PID\", \"4\"),\n",
    "    (\"VIS\", \"3\")\n",
    "]"
   ]
  },
  {
   "cell_type": "markdown",
   "metadata": {
    "id": "ghDQjwkrHEgE"
   },
   "source": [
    "#Part A — Choose representations (immutability vs. mutability)\n",
    "\n",
    "1. Participants/teams: Convert each raw_teams row into a record you won’t accidentally mutate (e.g., for stable IDs).\n",
    "*   The data structure should have information about each school: team number, high school name, grouped mentor 1 information, grouped mentor 2 information\n",
    "*   **Deliverable**: a collection of team records; **justify** your data structure choice."
   ]
  },
  {
   "cell_type": "code",
   "execution_count": 2,
   "metadata": {
    "id": "OVHDz11xIL1-"
   },
   "outputs": [
    {
     "name": "stdout",
     "output_type": "stream",
     "text": [
      "[('HHS-1729', 'Hudson HS', ('Ada', 'ada@hudsonhs.org'), ('Lin', 'lin@hudsonhs.org')), ('FRM-101', 'Framingham HS', ('Sam', 'sam@frhs.org'), ('Tess', 'tess@frhs.org')), ('MRB-88', 'Marlborough HS', ('Kai', 'kai@mrbhs.org'), ('Ada', 'ada@hudsonhs.org')), ('WBY-77', 'Westborough HS', ('Ira', 'ira@wby.org'), ('Mo', 'mo@wby.org'))]\n"
     ]
    }
   ],
   "source": [
    "Sorted_Teams = []\n",
    "for team in raw_teams:\n",
    "    teamId, school, mentor1name, mentor1email, mentor2name, mentor2email = team\n",
    "    Sorted_Teams.append((teamId, school, (mentor1name, mentor1email), (mentor2name, mentor2email)))\n",
    "print(Sorted_Teams)\n",
    "    "
   ]
  },
  {
   "cell_type": "markdown",
   "metadata": {
    "id": "KEXLowQCIPaA"
   },
   "source": [
    "Tuples are the correct choices for this puprose becuase the team names and other info will never change and I want to ensure of that. I combined the mentor names and emails into 1 tuple in order to better sort the data"
   ]
  },
  {
   "cell_type": "markdown",
   "metadata": {},
   "source": [
    "\n",
    "2. Build a fast lookup from team code → school/mentors.\n",
    "*   **Deliverable**: a dictionary mapping `team_id` to a collection of information about that team. Information included should: which school is represented by the id and the team's mentors. We'll deal with points and records later"
   ]
  },
  {
   "cell_type": "code",
   "execution_count": 3,
   "metadata": {
    "id": "QM9OgkLVIMW3"
   },
   "outputs": [
    {
     "name": "stdout",
     "output_type": "stream",
     "text": [
      "{'HHS-1729': {'School': 'Hudson HS', 'mentor1': ('Ada', 'ada@hudsonhs.org'), 'mentor2': ('Lin', 'lin@hudsonhs.org')}, 'FRM-101': {'School': 'Framingham HS', 'mentor1': ('Sam', 'sam@frhs.org'), 'mentor2': ('Tess', 'tess@frhs.org')}, 'MRB-88': {'School': 'Marlborough HS', 'mentor1': ('Kai', 'kai@mrbhs.org'), 'mentor2': ('Ada', 'ada@hudsonhs.org')}, 'WBY-77': {'School': 'Westborough HS', 'mentor1': ('Ira', 'ira@wby.org'), 'mentor2': ('Mo', 'mo@wby.org')}}\n"
     ]
    }
   ],
   "source": [
    "Teams_Dictionary = {}\n",
    "for team in Sorted_Teams:\n",
    "    teamId, School, mentor1, mentor2, = team\n",
    "    Teams_Dictionary[teamId] = {'School': School, 'mentor1': mentor1, 'mentor2': mentor2}\n",
    "print(Teams_Dictionary)"
   ]
  },
  {
   "cell_type": "markdown",
   "metadata": {
    "id": "6tZvRBazIUU8"
   },
   "source": [
    "Using nested dictionaries allows me to call teams based on id and then call specific info based of that team. This provides a convenient way to get exactly the information I want."
   ]
  },
  {
   "cell_type": "markdown",
   "metadata": {
    "id": "MtDKvyYoIaTq"
   },
   "source": [
    "#Part B - Sort a mixed schedule\n",
    "\n",
    "Clean and sort `raw_matches` by **start_time** then **field** (so ties on time are broken alphabetically by field). We'll talk a bit more about how to do that below.\n",
    "\n",
    "*   **Deliverable**: a list of normalized match tuples"
   ]
  },
  {
   "cell_type": "code",
   "execution_count": 4,
   "metadata": {
    "id": "rp839VzxK4lj"
   },
   "outputs": [],
   "source": [
    "def sorting_key(match):\n",
    "  return ((match[1],match[0]))"
   ]
  },
  {
   "cell_type": "markdown",
   "metadata": {
    "id": "eByhciXyLtxQ"
   },
   "source": [
    "Using this function I can set specific paremeters to sort by"
   ]
  },
  {
   "cell_type": "code",
   "execution_count": 5,
   "metadata": {
    "id": "KJKpFgy_Lg9W"
   },
   "outputs": [
    {
     "name": "stdout",
     "output_type": "stream",
     "text": [
      "('Field-1', '2025-09-27T09:30', 'WBY-77', 'HHS-1729')\n",
      "('Field-2', '2025-09-27T09:30', 'MRB-88', 'FRM-101')\n",
      "('Field-1', '2025-09-27T10:15', 'HHS-1729', 'FRM-101')\n",
      "('Field-2', '2025-09-27T10:15', 'MRB-88', 'WBY-77')\n",
      "('Field-1', '2025-09-27T11:00', 'HHS-1729', 'MRB-88')\n",
      "('Field-2', '2025-09-27T11:45', 'WBY-77', 'FRM-101')\n",
      "('Field-1', '2025-09-27T12:30', 'MRB-88', 'HHS-1729')\n",
      "('Field-2', '2025-09-27T12:30', 'FRM-101', 'WBY-77')\n",
      "('Field-1', '2025-09-27T13:15', 'HHS-1729', 'WBY-77')\n",
      "('Field-2', '2025-09-27T13:15', 'MRB-88', 'FRM-101')\n",
      "('Field-1', '2025-09-27T14:00', 'FRM-101', 'HHS-1729')\n",
      "('Field-2', '2025-09-27T14:00', 'WBY-77', 'MRB-88')\n",
      "('Field-1', '2025-09-27T14:45', 'HHS-1729', 'MRB-88')\n",
      "('Field-2', '2025-09-27T14:45', 'FRM-101', 'WBY-77')\n",
      "('Field-1', '2025-09-27T15:30', 'WBY-77', 'HHS-1729')\n",
      "('Field-2', '2025-09-27T15:30', 'MRB-88', 'FRM-101')\n",
      "('Field-1', '2025-09-27T16:15', 'FRM-101', 'HHS-1729')\n",
      "('Field-2', '2025-09-27T16:15', 'WBY-77', 'MRB-88')\n",
      "('Field-1', '2025-09-27T17:00', 'HHS-1729', 'WBY-77')\n",
      "('Field-2', '2025-09-27T17:00', 'FRM-101', 'MRB-88')\n",
      "('Field-1', '2025-09-27T17:45', 'MRB-88', 'WBY-77')\n",
      "('Field-2', '2025-09-27T17:45', 'HHS-1729', 'FRM-101')\n",
      "('Field-1', '2025-09-27T18:30', 'WBY-77', 'FRM-101')\n",
      "('Field-2', '2025-09-27T18:30', 'MRB-88', 'HHS-1729')\n",
      "('Field-1', '2025-09-27T19:15', 'HHS-1729', 'FRM-101')\n"
     ]
    }
   ],
   "source": [
    "sorted_matches = sorted(raw_matches, key=sorting_key) \n",
    "for match in sorted_matches:\n",
    "    print(match)"
   ]
  },
  {
   "cell_type": "markdown",
   "metadata": {
    "id": "EnVT2FYOMA3_"
   },
   "source": [
    "using key=sorting key allowed me to specify to sort by time first and then to sort by the field as a tie breaker"
   ]
  },
  {
   "cell_type": "markdown",
   "metadata": {
    "id": "V62qMiGnKxZJ"
   },
   "source": [
    "#Part C — Detect cross-team mentor conflicts (duplicate emails)\n",
    "\n",
    "Using the team data, find any emails that appear on multiple teams.\n",
    "*   **Deliverable**: produce a report like \"xxxx@xxxxx.org\": {\"xxx-####\",\"xxx-####\"}}. Where we can see that xxxx@xxxxx.org was listed for two different teams\n"
   ]
  },
  {
   "cell_type": "code",
   "execution_count": 6,
   "metadata": {
    "id": "tFeSvq2zNCFt"
   },
   "outputs": [
    {
     "name": "stdout",
     "output_type": "stream",
     "text": [
      "ada@hudsonhs.org: MRB-88 HHS-1729\n",
      "{'ada@hudsonhs.org': 'HHS-1729, MRB-88', 'lin@hudsonhs.org': 'HHS-1729', 'sam@frhs.org': 'FRM-101', 'tess@frhs.org': 'FRM-101', 'kai@mrbhs.org': 'MRB-88', 'ira@wby.org': 'WBY-77', 'mo@wby.org': 'WBY-77'}\n"
     ]
    }
   ],
   "source": [
    "Dupe_Dictionary = {}\n",
    "for teamid in Teams_Dictionary:\n",
    "    mentor1email = Teams_Dictionary[teamid]['mentor1'][1]\n",
    "    mentor2email = Teams_Dictionary[teamid]['mentor2'][1]\n",
    "    if Dupe_Dictionary:\n",
    "        if mentor1email in Dupe_Dictionary:\n",
    "            print(f\"{mentor1email}: {teamid} {Dupe_Dictionary[mentor1email]}\")\n",
    "        elif mentor2email in Dupe_Dictionary:\n",
    "            print(f\"{mentor2email}: {teamid} {Dupe_Dictionary[mentor2email]}\")\n",
    "    if mentor1email in Dupe_Dictionary:\n",
    "        Dupe_Dictionary[mentor1email] += \", \" + (teamid)\n",
    "    else:\n",
    "        Dupe_Dictionary[mentor1email] = teamid\n",
    "    if mentor2email in Dupe_Dictionary:\n",
    "        Dupe_Dictionary[mentor2email] += \", \" +(teamid)\n",
    "    else:\n",
    "        Dupe_Dictionary[mentor2email] = teamid\n",
    "print(Dupe_Dictionary)"
   ]
  },
  {
   "cell_type": "markdown",
   "metadata": {
    "id": "d6kc1jWfNCec"
   },
   "source": [
    "I used a dictionary in order to solve this problem to do this. I looped through every single team and set each mentor's email to their teamid with the email as the key. This allowed me to easily figure out if there were any dupes by simply checking if a key already existed along with allowing me to add to the teamids when a dupe is found since the team id is the value and not the key."
   ]
  },
  {
   "cell_type": "markdown",
   "metadata": {
    "id": "FGh8WsJaNCqS"
   },
   "source": [
    "#Part D — Build standings with real aggregation tools\n",
    "\n",
    "Compute **total points by team** across all **raw_scores**, then list the top 3. Handle ties by breaking ties with **team_id** alphabetically.\n",
    "\n",
    "\n",
    "\n",
    "*   **Deliverable**: an ordered list like [(\"FRM-101\", 56), (\"MRB-88\", 71), ...]."
   ]
  },
  {
   "cell_type": "code",
   "execution_count": 7,
   "metadata": {
    "id": "hnnHpes7NcRr"
   },
   "outputs": [],
   "source": [
    "Team_Scores_D = {}\n",
    "Team_Scores_L = []"
   ]
  },
  {
   "cell_type": "markdown",
   "metadata": {},
   "source": [
    "First I set up two data structers with a dictionary and a list"
   ]
  },
  {
   "cell_type": "code",
   "execution_count": 8,
   "metadata": {},
   "outputs": [],
   "source": [
    "def sorter(team):\n",
    "    return (team[1],team[2])"
   ]
  },
  {
   "cell_type": "markdown",
   "metadata": {},
   "source": [
    "Then I set up a sorting key function to sort by wins and points"
   ]
  },
  {
   "cell_type": "code",
   "execution_count": 9,
   "metadata": {},
   "outputs": [],
   "source": [
    "for teamid in Teams_Dictionary:\n",
    "    wins, score, matches = 0,0,0\n",
    "    Team_Scores_D[teamid] = [wins,score, matches]"
   ]
  },
  {
   "cell_type": "markdown",
   "metadata": {},
   "source": [
    "This sets up a new dictionary containing a list for each team with wins score and matches"
   ]
  },
  {
   "cell_type": "code",
   "execution_count": 10,
   "metadata": {},
   "outputs": [],
   "source": [
    "for match in raw_scores:\n",
    "    field, time, teamA, ptsA, teamB, ptsB = match\n",
    "    Team_Scores_D[teamA][1] += ptsA\n",
    "    Team_Scores_D[teamB][1] += ptsB\n",
    "    if ptsA > ptsB:\n",
    "        Team_Scores_D[teamA][0] += 1\n",
    "    elif ptsB > ptsA:\n",
    "        Team_Scores_D[teamB][0] += 1\n",
    "    Team_Scores_D[teamB][2] += 1\n",
    "    Team_Scores_D[teamA][2] += 1"
   ]
  },
  {
   "cell_type": "markdown",
   "metadata": {},
   "source": [
    "This loops through every single match and comapres the teamid to the teams in the matches and then computes the wins and points"
   ]
  },
  {
   "cell_type": "code",
   "execution_count": 11,
   "metadata": {},
   "outputs": [
    {
     "name": "stdout",
     "output_type": "stream",
     "text": [
      "[('MRB-88', 8, 300), ('FRM-101', 6, 327), ('HHS-1729', 6, 302), ('WBY-77', 4, 278)]\n"
     ]
    }
   ],
   "source": [
    "for key,value  in Team_Scores_D.items():\n",
    "    Team_Scores_L.append((key, value[0],value[1]))\n",
    "Team_Scores_L = sorted(Team_Scores_L, key=sorter, reverse = True)\n",
    "print(Team_Scores_L)"
   ]
  },
  {
   "cell_type": "markdown",
   "metadata": {},
   "source": [
    "Finally I loop though the dictionary and add it to a list to allow for sorting"
   ]
  },
  {
   "cell_type": "markdown",
   "metadata": {
    "id": "CVvBLr2QOEG8"
   },
   "source": [
    "#Part E — Team activity summary (grouping)\n",
    "\n",
    "Produce, for each team, a summary dict:\n",
    "\n",
    "```\n",
    "{\n",
    "  \"HHS-1729\": {\n",
    "    \"school\": \"Hudson HS\",\n",
    "    \"mentors\": [\"Ada\",\"Lin\"],\n",
    "    \"matches\": 3,\n",
    "    \"total_points\": 57,\n",
    "    \"workshops\": [\"PID\", \"VIS\"]\n",
    "  },\n",
    "  ...\n",
    "}\n",
    "```\n"
   ]
  },
  {
   "cell_type": "code",
   "execution_count": 12,
   "metadata": {
    "id": "LBPwycB5OLGX"
   },
   "outputs": [
    {
     "name": "stdout",
     "output_type": "stream",
     "text": [
      "{'school': 'Hudson HS', 'mentors': ['Ada', 'Lin'], 'matches': 13, 'total_points': 302, 'workshops': ['VIS', 'PID']}\n",
      "{'school': 'Framingham HS', 'mentors': ['Sam', 'Tess'], 'matches': 13, 'total_points': 327, 'workshops': ['PID']}\n",
      "{'school': 'Marlborough HS', 'mentors': ['Kai', 'Ada'], 'matches': 12, 'total_points': 300, 'workshops': ['VIS', 'PID']}\n",
      "{'school': 'Westborough HS', 'mentors': ['Ira', 'Mo'], 'matches': 12, 'total_points': 278, 'workshops': ['VIS']}\n"
     ]
    }
   ],
   "source": [
    "Summary_Dictionary = {}\n",
    "for teamid in Teams_Dictionary:\n",
    "    Summary_Dictionary[teamid] = {'school':Teams_Dictionary[teamid]['School'], \n",
    "                                  'mentors': [Teams_Dictionary[teamid]['mentor1'][0],Teams_Dictionary[teamid]['mentor2'][0]], \n",
    "                                  'matches':Team_Scores_D[teamid][2], 'total_points':Team_Scores_D[teamid][1], \n",
    "                                  'workshops': list({request[1] for request in raw_workshops if Teams_Dictionary[teamid]['mentor1'][1] == request[0] or Teams_Dictionary[teamid]['mentor2'][1] == request[0]})} \n",
    "    print(Summary_Dictionary[teamid])"
   ]
  },
  {
   "cell_type": "markdown",
   "metadata": {
    "id": "OMKQYIfFOZAl"
   },
   "source": [
    "For my summary I created a new dictionary and then I added dictionaries for each team into it. For the school, mentors, and matches a simply called my previous dictionaries. For workshops i used list comprehension to loop through the raw workshops and then compare them to the mentor names."
   ]
  }
 ],
 "metadata": {
  "colab": {
   "provenance": []
  },
  "kernelspec": {
   "display_name": "Python [conda env:base] *",
   "language": "python",
   "name": "conda-base-py"
  },
  "language_info": {
   "codemirror_mode": {
    "name": "ipython",
    "version": 3
   },
   "file_extension": ".py",
   "mimetype": "text/x-python",
   "name": "python",
   "nbconvert_exporter": "python",
   "pygments_lexer": "ipython3",
   "version": "3.13.5"
  }
 },
 "nbformat": 4,
 "nbformat_minor": 4
}
